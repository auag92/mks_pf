{
 "cells": [
  {
   "cell_type": "code",
   "execution_count": 1,
   "metadata": {
    "collapsed": false
   },
   "outputs": [
    {
     "name": "stdout",
     "output_type": "stream",
     "text": [
      "Collecting pymks\n",
      "  Using cached pymks-0.3.3-py3-none-any.whl\n",
      "Installing collected packages: pymks\n",
      "\u001b[31mException:\n",
      "Traceback (most recent call last):\n",
      "  File \"/home/grdstu/anaconda3/lib/python3.5/site-packages/pip/basecommand.py\", line 215, in main\n",
      "    status = self.run(options, args)\n",
      "  File \"/home/grdstu/anaconda3/lib/python3.5/site-packages/pip/commands/install.py\", line 317, in run\n",
      "    prefix=options.prefix_path,\n",
      "  File \"/home/grdstu/anaconda3/lib/python3.5/site-packages/pip/req/req_set.py\", line 742, in install\n",
      "    **kwargs\n",
      "  File \"/home/grdstu/anaconda3/lib/python3.5/site-packages/pip/req/req_install.py\", line 831, in install\n",
      "    self.move_wheel_files(self.source_dir, root=root, prefix=prefix)\n",
      "  File \"/home/grdstu/anaconda3/lib/python3.5/site-packages/pip/req/req_install.py\", line 1032, in move_wheel_files\n",
      "    isolated=self.isolated,\n",
      "  File \"/home/grdstu/anaconda3/lib/python3.5/site-packages/pip/wheel.py\", line 346, in move_wheel_files\n",
      "    clobber(source, lib_dir, True)\n",
      "  File \"/home/grdstu/anaconda3/lib/python3.5/site-packages/pip/wheel.py\", line 317, in clobber\n",
      "    ensure_dir(destdir)\n",
      "  File \"/home/grdstu/anaconda3/lib/python3.5/site-packages/pip/utils/__init__.py\", line 83, in ensure_dir\n",
      "    os.makedirs(path)\n",
      "  File \"/home/grdstu/anaconda3/lib/python3.5/os.py\", line 241, in makedirs\n",
      "    mkdir(name, mode)\n",
      "PermissionError: [Errno 13] Permission denied: '/home/grdstu/anaconda3/lib/python3.5/site-packages/pymks'\u001b[0m\n",
      "\u001b[33mYou are using pip version 8.1.2, however version 9.0.1 is available.\n",
      "You should consider upgrading via the 'pip install --upgrade pip' command.\u001b[0m\n"
     ]
    }
   ],
   "source": [
    "!pip install pymks"
   ]
  }
 ],
 "metadata": {
  "anaconda-cloud": {},
  "kernelspec": {
   "display_name": "Python [default]",
   "language": "python",
   "name": "python3"
  },
  "language_info": {
   "codemirror_mode": {
    "name": "ipython",
    "version": 3
   },
   "file_extension": ".py",
   "mimetype": "text/x-python",
   "name": "python",
   "nbconvert_exporter": "python",
   "pygments_lexer": "ipython3",
   "version": "3.5.2"
  }
 },
 "nbformat": 4,
 "nbformat_minor": 1
}
