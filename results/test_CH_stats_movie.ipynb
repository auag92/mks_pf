{
 "cells": [
  {
   "cell_type": "code",
   "execution_count": 1,
   "metadata": {
    "collapsed": false
   },
   "outputs": [],
   "source": [
    "import pymks\n",
    "# %matplotlib inline\n",
    "# %load_ext autoreload\n",
    "# %autoreload 2\n"
   ]
  },
  {
   "cell_type": "code",
   "execution_count": 2,
   "metadata": {
    "collapsed": true
   },
   "outputs": [],
   "source": [
    "from pymks import MKSStructureAnalysis\n",
    "from pymks.bases import LegendreBasis\n",
    "from pymks.datasets import CahnHilliardSimulation\n",
    "import numpy as np\n",
    "import cPickle as pickle\n"
   ]
  },
  {
   "cell_type": "code",
   "execution_count": 3,
   "metadata": {
    "collapsed": false
   },
   "outputs": [
    {
     "name": "stdout",
     "output_type": "stream",
     "text": [
      "(800, 95, 95)\n"
     ]
    }
   ],
   "source": [
    "try:\n",
    "    X = pickle.load(open('test_stats_data.pkl', 'rb'))\n",
    "except:\n",
    "    sim = CahnHilliardSimulation(gamma=0.4) # 0.4\n",
    "    np.random.seed(12) # 0, 1\n",
    "    means = (0.0008 * np.random.random(10) - 0.0004)\n",
    "    print means\n",
    "    X0 = np.concatenate([1e-5 * np.random.randn(1, 95, 95) - m for m in means])\n",
    "\n",
    "    X = X0.copy()\n",
    "    X_1000 = []\n",
    "    coeffs = []\n",
    "    coeffs_1000 = []\n",
    "    # savemat('data_more_more/data_step_0000', {'data': X})\n",
    "    for ii in range(4000):\n",
    "        sim.run(X)\n",
    "        X = sim.response\n",
    "        if (ii + 1) % 50 == 0:\n",
    "            X_1000.append(X)\n",
    "    X = np.concatenate(X_1000)\n",
    "    print X.shape\n",
    "    X = X.reshape((80, 10, 95, 95))\n",
    "    X = np.transpose(X, [1, 0, 2, 3])\n",
    "    X = X.reshape((800, 95, 95))\n",
    "    pickle.dump(X, open('test_stats_data.pkl', 'wb'))\n",
    "print X.shape"
   ]
  },
  {
   "cell_type": "code",
   "execution_count": 4,
   "metadata": {
    "collapsed": false
   },
   "outputs": [],
   "source": [
    "corr=[(1, 1), (3, 3)] "
   ]
  },
  {
   "cell_type": "code",
   "execution_count": 5,
   "metadata": {
    "collapsed": true
   },
   "outputs": [],
   "source": [
    "from pymks.stats import correlate\n",
    "l_basis = LegendreBasis(n_states=10, domain=[-1.1, 1.1])\n",
    "\n",
    "X_corr = correlate(X, l_basis, periodic_axes=[0, 1], correlations=corr)\n"
   ]
  },
  {
   "cell_type": "code",
   "execution_count": 6,
   "metadata": {
    "collapsed": false,
    "scrolled": true
   },
   "outputs": [],
   "source": [
    "import matplotlib.pyplot as plt\n",
    "import matplotlib.animation as animation\n",
    "\n",
    "\n",
    "fig, (ax1, ax2) = plt.subplots(2,1)\n",
    "\n",
    "imgs = []\n",
    "for i in range(len(X)):\n",
    "    im0 = ax1.imshow(X_corr[i, ..., 0])\n",
    "    ax1.set_title('Stats', fontsize=20)\n",
    "#     ax1.colorbar()\n",
    "    im1 = ax2.imshow(X[i])\n",
    "    ax2.set_title('Structure', fontsize=20)\n",
    "#     ax2.colorbar()\n",
    "    imgs.append([im0, im1])\n",
    "\n",
    "im_ani1 = animation.ArtistAnimation(fig, imgs, interval=50, repeat_delay=300,\n",
    "    blit=True)\n",
    "\n",
    "\n",
    "plt.show()"
   ]
  },
  {
   "cell_type": "code",
   "execution_count": null,
   "metadata": {
    "collapsed": true
   },
   "outputs": [],
   "source": []
  }
 ],
 "metadata": {
  "kernelspec": {
   "display_name": "Python 2",
   "language": "python",
   "name": "python2"
  },
  "language_info": {
   "codemirror_mode": {
    "name": "ipython",
    "version": 2
   },
   "file_extension": ".py",
   "mimetype": "text/x-python",
   "name": "python",
   "nbconvert_exporter": "python",
   "pygments_lexer": "ipython2",
   "version": "2.7.11"
  }
 },
 "nbformat": 4,
 "nbformat_minor": 0
}
